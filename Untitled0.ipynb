{
  "nbformat": 4,
  "nbformat_minor": 0,
  "metadata": {
    "colab": {
      "provenance": []
    },
    "kernelspec": {
      "name": "python3",
      "display_name": "Python 3"
    },
    "language_info": {
      "name": "python"
    }
  },
  "cells": [
    {
      "cell_type": "code",
      "execution_count": null,
      "metadata": {
        "colab": {
          "base_uri": "https://localhost:8080/"
        },
        "id": "a5LJcACQX69Z",
        "outputId": "f0b730d2-8181-461a-8b54-d846f86cde66"
      },
      "outputs": [
        {
          "output_type": "stream",
          "name": "stdout",
          "text": [
            "Requirement already satisfied: cryptography in /usr/local/lib/python3.11/dist-packages (43.0.3)\n",
            "Requirement already satisfied: cffi>=1.12 in /usr/local/lib/python3.11/dist-packages (from cryptography) (1.17.1)\n",
            "Requirement already satisfied: pycparser in /usr/local/lib/python3.11/dist-packages (from cffi>=1.12->cryptography) (2.22)\n"
          ]
        }
      ],
      "source": [
        "!pip install cryptography"
      ]
    },
    {
      "cell_type": "code",
      "source": [
        "from cryptography.fernet import Fernet\n",
        "\n",
        "# Generate a key\n",
        "key = Fernet.generate_key()\n",
        "cipher_suite = Fernet(key)\n",
        "# message to encrypt\n",
        "message = b\"First_Name:Niyoniringiye\"\n",
        "\n",
        "#encrypy the message\n",
        "encrypted_message = cipher_suite.encrypt(message)\n",
        "print(\"Encrypted mesage:\", encrypted_message.decode)\n",
        "\n",
        "#Decrypy the message\n",
        "decrypted_message = cipher_suite.decrypt(encrypted_message)\n",
        "print(\"Decrypted mesage:\", decrypted_message.decode())\n"
      ],
      "metadata": {
        "id": "gvhEwU9EYMhs",
        "outputId": "4bb887e1-b40f-4229-aa63-d579c2a9c38b",
        "colab": {
          "base_uri": "https://localhost:8080/"
        }
      },
      "execution_count": null,
      "outputs": [
        {
          "output_type": "stream",
          "name": "stdout",
          "text": [
            "Encrypted mesage: <built-in method decode of bytes object at 0x7c17a49456b0>\n",
            "Decrypted mesage: First_Name:Niyoniringiye\n"
          ]
        }
      ]
    }
  ]
}