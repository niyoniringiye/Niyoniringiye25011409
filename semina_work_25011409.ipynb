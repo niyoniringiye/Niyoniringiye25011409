{
  "nbformat": 4,
  "nbformat_minor": 0,
  "metadata": {
    "colab": {
      "provenance": []
    },
    "kernelspec": {
      "name": "python3",
      "display_name": "Python 3"
    },
    "language_info": {
      "name": "python"
    }
  },
  "cells": [
    {
      "cell_type": "code",
      "execution_count": 18,
      "metadata": {
        "colab": {
          "base_uri": "https://localhost:8080/"
        },
        "id": "mZSNAA7I83RS",
        "outputId": "df5c67b0-c0f9-495b-c781-3b19db0ad160"
      },
      "outputs": [
        {
          "output_type": "stream",
          "name": "stdout",
          "text": [
            "similarity: 0.64\n",
            "common words: {'history', 'is', 'past', 'of', 'systematic', 'the', 'study'}\n"
          ]
        }
      ],
      "source": [
        "file1 = \"history is the sytematic study of the past\"\n",
        "file2 = \"hstory is the systematic studay of the past this is just for practice\"\n",
        "\n",
        "def jaccard_similarity(text1, text2):\n",
        "    #split texts into sets of words\n",
        "    set1 = set(text1.split())\n",
        "    set2 = set(text2.split())\n",
        "    intersection =set1.intersection(set2)\n",
        "    union = set.union(set2)\n",
        "    similarity = len(intersection) /len(union)\n",
        "    return similarity,intersection\n",
        "\n",
        "text1 =\"history is the systematic study of the past\"\n",
        "text2 =\"history is the systematic study of the past this is just for practice\"\n",
        "similarity,common_words = jaccard_similarity(text1, text2)\n",
        "print(f\"similarity: {similarity:.2f}\")\n",
        "print(f\"common words: {common_words}\")"
      ]
    }
  ]
}