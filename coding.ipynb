{
  "nbformat": 4,
  "nbformat_minor": 0,
  "metadata": {
    "colab": {
      "provenance": [],
      "authorship_tag": "ABX9TyMQwTqREZ2fmB4sUWTfj+46",
      "include_colab_link": true
    },
    "kernelspec": {
      "name": "python3",
      "display_name": "Python 3"
    },
    "language_info": {
      "name": "python"
    }
  },
  "cells": [
    {
      "cell_type": "markdown",
      "metadata": {
        "id": "view-in-github",
        "colab_type": "text"
      },
      "source": [
        "<a href=\"https://colab.research.google.com/github/niyoniringiye/Niyoniringiye25011409/blob/main/coding.ipynb\" target=\"_parent\"><img src=\"https://colab.research.google.com/assets/colab-badge.svg\" alt=\"Open In Colab\"/></a>"
      ]
    },
    {
      "cell_type": "code",
      "execution_count": 3,
      "metadata": {
        "colab": {
          "base_uri": "https://localhost:8080/"
        },
        "id": "osn0wjNj3tMD",
        "outputId": "dd6cb29d-36a5-4694-ec66-b0ee6d6b158f"
      },
      "outputs": [
        {
          "output_type": "stream",
          "name": "stdout",
          "text": [
            "baised hiring: []\n",
            "fiar Hiring : {'name': 'James', 'gender': 'F', 'age': 25}\n"
          ]
        }
      ],
      "source": [
        "#Biased hiring algorithm\n",
        "import random\n",
        "candidates = [{'name':'James','gender':'F','age':25},{'name':'dodo','gender':'M','age':35}]\n",
        "def biased_hire(candidates):\n",
        "  return[candidate for candidate in candidates if candidate ['age']=='35' ]\n",
        "print(\"baised hiring:\",biased_hire(candidates))\n",
        "def fiar_hire(candidates):\n",
        "    return random.choice(candidates)\n",
        "print(\"fiar Hiring :\",fiar_hire(candidates))\n"
      ]
    },
    {
      "cell_type": "code",
      "source": [],
      "metadata": {
        "id": "h7TFSULd4rlh"
      },
      "execution_count": null,
      "outputs": []
    }
  ]
}