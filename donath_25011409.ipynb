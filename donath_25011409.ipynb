{
  "nbformat": 4,
  "nbformat_minor": 0,
  "metadata": {
    "colab": {
      "provenance": []
    },
    "kernelspec": {
      "name": "python3",
      "display_name": "Python 3"
    },
    "language_info": {
      "name": "python"
    }
  },
  "cells": [
    {
      "cell_type": "code",
      "execution_count": 7,
      "metadata": {
        "colab": {
          "base_uri": "https://localhost:8080/"
        },
        "id": "Gnluk2aREMQL",
        "outputId": "2b4783c2-37c2-49cd-e6bb-872c9b1af0cb"
      },
      "outputs": [
        {
          "output_type": "stream",
          "name": "stdout",
          "text": [
            "Website https://uok.ac.rw is up (Status: 200)\n"
          ]
        }
      ],
      "source": [
        "def check_website(url):\n",
        "    try:\n",
        "        response = requests.get(url, timeout=5)\n",
        "        return f\"Website {url} is up (Status: {response.status_code})\"\n",
        "    except requests.exceptions.RequestException:\n",
        "        return f\"Website {url} is unreachable.\"\n",
        "\n",
        "print(check_website(\"https://uok.ac.rw\"))"
      ]
    }
  ]
}